{
 "cells": [
  {
   "cell_type": "code",
   "execution_count": 1,
   "id": "e1c9db3a-f55a-4efa-99d4-e21af72eb465",
   "metadata": {},
   "outputs": [],
   "source": [
    "import os\n",
    "import csv"
   ]
  },
  {
   "cell_type": "code",
   "execution_count": 2,
   "id": "95ebfc48-1de1-438b-98f0-f370834072ec",
   "metadata": {},
   "outputs": [],
   "source": [
    "# Set the file path\n",
    "csvpath = os.path.join('Resources', 'election_data.csv')"
   ]
  },
  {
   "cell_type": "code",
   "execution_count": 3,
   "id": "6131294b-2604-41e6-b563-6e0427a9869e",
   "metadata": {},
   "outputs": [
    {
     "name": "stdout",
     "output_type": "stream",
     "text": [
      "Header: ['Ballot ID', 'County', 'Candidate']\n"
     ]
    }
   ],
   "source": [
    "#open file for reading\n",
    "with open(csvpath) as csvfile:\n",
    "    csv_reader = csv.reader(csvfile, delimiter=',')\n",
    "    csv_header = next(csv_reader)\n",
    "    print(f\"Header: {csv_header}\")\n",
    "\n",
    "\n",
    "    # Initialize variables\n",
    "    total_votes = 0\n",
    "    candidates = {}\n",
    "    winner = \"\"\n",
    "\n",
    "\n",
    "    for row in csv_reader: \n",
    "        ballot_id = row[0]\n",
    "        county = row[1]\n",
    "        candidate = row[2]\n",
    "\n",
    "        # Count total votes\n",
    "        total_votes += 1  \n",
    "\n",
    "         # Count votes for each candidate\n",
    "        if candidate in candidates:\n",
    "            candidates[candidate] += 1\n",
    "        else:\n",
    "            candidates[candidate] = 1\n",
    "\n",
    "\n",
    "\n",
    "    # Calculate the winner\n",
    "    winner = max(candidates, key=candidates.get)"
   ]
  },
  {
   "cell_type": "code",
   "execution_count": 4,
   "id": "2b3b7107-e71e-426a-90ad-7c9bf9fe3f20",
   "metadata": {},
   "outputs": [
    {
     "name": "stdout",
     "output_type": "stream",
     "text": [
      "Election Results\n",
      "-------------------------\n",
      "Total Votes: 369711\n",
      "-------------------------\n",
      "Charles Casper Stockham: 23.049% (85213)\n",
      "Diana DeGette: 73.812% (272892)\n",
      "Raymon Anthony Doane: 3.139% (11606)\n",
      "-------------------------\n",
      "Winner: Diana DeGette\n",
      "-------------------------\n"
     ]
    }
   ],
   "source": [
    "# Print results\n",
    "print(\"Election Results\")\n",
    "print(\"-------------------------\")\n",
    "print(f\"Total Votes: {total_votes}\")\n",
    "print(\"-------------------------\")\n",
    "for candidate, votes in candidates.items():\n",
    "    percentage = (votes / total_votes) * 100\n",
    "    print(f\"{candidate}: {percentage:.3f}% ({votes})\")\n",
    "print(\"-------------------------\")\n",
    "print(f\"Winner: {winner}\")\n",
    "print(\"-------------------------\")"
   ]
  },
  {
   "cell_type": "code",
   "execution_count": 5,
   "id": "89deb2e2-34c9-4ced-a804-ad0790cf339b",
   "metadata": {},
   "outputs": [],
   "source": [
    "# Export results to a text file\n",
    "output_path = os.path.join('analysis', 'election_results.txt')\n",
    "with open(output_path, 'w') as f:\n",
    "    f.write(\"Election Results\\n\")\n",
    "    f.write(\"-------------------------\\n\")\n",
    "    f.write(f\"Total Votes: {total_votes}\\n\")\n",
    "    f.write(\"-------------------------\\n\")\n",
    "    for candidate, votes in candidates.items():\n",
    "        percentage = (votes / total_votes) * 100\n",
    "        f.write(f\"{candidate}: {percentage:.3f}% ({votes})\\n\")\n",
    "    f.write(\"-------------------------\\n\")\n",
    "    f.write(f\"Winner: {winner}\\n\")\n",
    "    f.write(\"-------------------------\\n\")"
   ]
  }
 ],
 "metadata": {
  "kernelspec": {
   "display_name": "Python 3 (ipykernel)",
   "language": "python",
   "name": "python3"
  },
  "language_info": {
   "codemirror_mode": {
    "name": "ipython",
    "version": 3
   },
   "file_extension": ".py",
   "mimetype": "text/x-python",
   "name": "python",
   "nbconvert_exporter": "python",
   "pygments_lexer": "ipython3",
   "version": "3.12.4"
  }
 },
 "nbformat": 4,
 "nbformat_minor": 5
}
